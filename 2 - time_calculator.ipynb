{
 "cells": [
  {
   "cell_type": "markdown",
   "metadata": {},
   "source": [
    "# Scientific Computing with Python Projects\n",
    "\n",
    "Scientific Computing with Python Projects by FreeCodeCamp"
   ]
  },
  {
   "cell_type": "markdown",
   "metadata": {},
   "source": [
    "## 2. Time Calculator"
   ]
  },
  {
   "cell_type": "code",
   "execution_count": 1,
   "metadata": {},
   "outputs": [],
   "source": [
    "def add_time(start, duration, starting_day=False):\n",
    " \n",
    "    days_counter = 0\n",
    "    \n",
    "    # Split the hours, minutes, period, and the added duration\n",
    "    hours, minutes = start.split(\":\")\n",
    "    minutes, period = minutes.split(\" \")\n",
    "    period = period.strip().lower()\n",
    "    duration_hours, duration_minutes = duration.split(\":\")\n",
    "    \n",
    "    # Set these variables as interger\n",
    "    hours = int(hours)\n",
    "    minutes = int(minutes)\n",
    "    duration_hours = int(duration_hours)\n",
    "    duration_minutes = int(duration_minutes)\n",
    "    \n",
    "    # Sum the minutes and hours addded\n",
    "    total_minutes = minutes + duration_minutes\n",
    "    total_hours = hours + duration_hours\n",
    "    \n",
    "    if total_minutes >= 60:\n",
    "        total_hours += int(total_minutes / 60)\n",
    "        total_minutes = int(total_minutes % 60)\n",
    "    \n",
    "    if period == \"pm\" and total_hours > 12:\n",
    "        if total_hours % 24 >=1:\n",
    "            days_counter +=1\n",
    "    \n",
    "    if total_hours >= 12:\n",
    "        hours_left = total_hours / 24\n",
    "        days_counter += int(hours_left)\n",
    "\n",
    "    temp_total_hours = total_hours\n",
    "    while True:\n",
    "        if temp_total_hours < 12:\n",
    "            break\n",
    "\n",
    "        if total_hours >= 12:\n",
    "            if period == \"am\":\n",
    "                period = \"pm\"\n",
    "            elif period == \"pm\":\n",
    "                period = \"am\"\n",
    "            temp_total_hours -= 12\n",
    "    \n",
    "    remaining_hours = str(int(total_hours % 12) or hours +1) \n",
    "    remaining_minutes = str(int(total_minutes % 60))\n",
    "    \n",
    "    if len(remaining_minutes) <=1:\n",
    "        remaining_minutes = \"0\" + remaining_minutes\n",
    "                  \n",
    "    added_time = remaining_hours + \":\" + remaining_minutes + \" \" + period.upper()\n",
    "    \n",
    "    day = \"\"\n",
    "    if days_counter >=1 and days_counter<2:\n",
    "        day = f\" (next day)\"\n",
    "    elif days_counter >=2:\n",
    "        day = f\" ({days_counter} days later)\"\n",
    "    else:\n",
    "        pass\n",
    "    \n",
    "    if starting_day == False:\n",
    "        new_time = added_time + day\n",
    "        return new_time\n",
    "    else:\n",
    "        days = [\"monday\", \"tuesday\", \"wednesday\", \"thursday\", \"friday\", \"saturday\", \"sunday\"]\n",
    "        temp_starting_day = starting_day.lower()\n",
    "        temp_selected_day = int((days.index(temp_starting_day) + days_counter) % 7)\n",
    "        selected_day = days[temp_selected_day].title()\n",
    "        new_time =  added_time + \", \" + selected_day + day\n",
    "        return new_time"
   ]
  },
  {
   "cell_type": "markdown",
   "metadata": {},
   "source": [
    "Test the problems"
   ]
  },
  {
   "cell_type": "code",
   "execution_count": 2,
   "metadata": {},
   "outputs": [
    {
     "name": "stdout",
     "output_type": "stream",
     "text": [
      "6:10 PM\n",
      "2:02 PM, Monday\n",
      "12:03 PM\n",
      "1:40 AM (next day)\n",
      "12:03 AM, Thursday (2 days later)\n",
      "7:42 AM (9 days later)\n"
     ]
    }
   ],
   "source": [
    "print(add_time(\"3:00 PM\", \"3:10\")   )           # Returns: 6:10 PM\n",
    "print(add_time(\"11:30 AM\", \"2:32\", \"Monday\"))   # Returns: 2:02 PM, Monday\n",
    "print(add_time(\"11:43 AM\", \"00:20\"))            # Returns: 12:03 PM\n",
    "print(add_time(\"10:10 PM\", \"3:30\"))             # Returns: 1:40 AM (next day)\n",
    "print(add_time(\"11:43 PM\", \"24:20\", \"tueSday\")) # Returns: 12:03 AM, Thursday (2 days later)\n",
    "print(add_time(\"6:30 PM\", \"205:12\"))            # Returns: 7:42 AM (9 days later)"
   ]
  }
 ],
 "metadata": {
  "kernelspec": {
   "display_name": "Python 3.8.6 64-bit",
   "language": "python",
   "name": "python3"
  },
  "language_info": {
   "codemirror_mode": {
    "name": "ipython",
    "version": 3
   },
   "file_extension": ".py",
   "mimetype": "text/x-python",
   "name": "python",
   "nbconvert_exporter": "python",
   "pygments_lexer": "ipython3",
   "version": "3.8.6"
  },
  "orig_nbformat": 4,
  "vscode": {
   "interpreter": {
    "hash": "fbe58ca63fe33f9eeae9e71d10368d2b4a57f2b1b395836210cc60d362c66949"
   }
  }
 },
 "nbformat": 4,
 "nbformat_minor": 2
}
