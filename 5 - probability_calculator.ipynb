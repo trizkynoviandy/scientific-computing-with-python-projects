{
 "cells": [
  {
   "cell_type": "code",
   "execution_count": 105,
   "metadata": {},
   "outputs": [],
   "source": [
    "import copy\n",
    "import random\n",
    "# Consider using the modules imported above.\n",
    "\n",
    "class Hat:\n",
    "    def __init__(self, **kwargs):\n",
    "        self.contents = []\n",
    "        for key, value in kwargs.items():\n",
    "            for item in range(value):\n",
    "                self.contents.append(key)\n",
    "    \n",
    "    def draw(self, num_balls):\n",
    "        if num_balls > len(self.contents):\n",
    "            return self.contents\n",
    "    \n",
    "        drawn = []    \n",
    "        for item in range(num_balls):\n",
    "            selected = random.randrange(len(self.contents))\n",
    "            drawn.append(self.contents.pop(selected))\n",
    "        return drawn\n",
    "    \n",
    "def experiment(hat, expected_balls, num_balls_drawn, num_experiments):\n",
    "    n_expected = 0\n",
    "    for item in range(num_experiments):\n",
    "        hat_copy = copy.deepcopy(hat)\n",
    "        balls_drawn = hat_copy.draw(num_balls_drawn)\n",
    "        \n",
    "        expected = []\n",
    "        for color, ball in expected_balls.items():\n",
    "            if balls_drawn.count(color) >= ball:\n",
    "                expected.append(1)\n",
    "                       \n",
    "        sum_expected = sum(expected)\n",
    "\n",
    "        if sum_expected == len(expected_balls):\n",
    "            n_expected +=1\n",
    "\n",
    "    probability = n_expected / num_experiments\n",
    "    return probability"
   ]
  },
  {
   "cell_type": "code",
   "execution_count": 106,
   "metadata": {},
   "outputs": [],
   "source": [
    "hat1 = Hat(yellow=3, blue=2, green=6)\n",
    "hat2 = Hat(red=5, orange=4)\n",
    "hat3 = Hat(red=5, orange=4, black=1, blue=0, pink=2, striped=9)"
   ]
  },
  {
   "cell_type": "code",
   "execution_count": 107,
   "metadata": {},
   "outputs": [
    {
     "name": "stdout",
     "output_type": "stream",
     "text": [
      "0.3385\n"
     ]
    }
   ],
   "source": [
    "hat = Hat(black=6, red=4, green=3)\n",
    "probability = experiment(hat=hat,\n",
    "                  expected_balls={\"red\":2,\"green\":1},\n",
    "                  num_balls_drawn=5,\n",
    "                  num_experiments=2000)\n",
    "\n",
    "print(probability)"
   ]
  }
 ],
 "metadata": {
  "kernelspec": {
   "display_name": "Python 3.8.6 64-bit",
   "language": "python",
   "name": "python3"
  },
  "language_info": {
   "codemirror_mode": {
    "name": "ipython",
    "version": 3
   },
   "file_extension": ".py",
   "mimetype": "text/x-python",
   "name": "python",
   "nbconvert_exporter": "python",
   "pygments_lexer": "ipython3",
   "version": "3.8.6"
  },
  "orig_nbformat": 4,
  "vscode": {
   "interpreter": {
    "hash": "fbe58ca63fe33f9eeae9e71d10368d2b4a57f2b1b395836210cc60d362c66949"
   }
  }
 },
 "nbformat": 4,
 "nbformat_minor": 2
}
