{
 "cells": [
  {
   "cell_type": "code",
   "execution_count": 8,
   "metadata": {},
   "outputs": [],
   "source": [
    "class Rectangle:\n",
    "    def __init__(self, width, height):\n",
    "        self.width = width\n",
    "        self.height = height\n",
    "    \n",
    "    def __repr__(self):\n",
    "        as_string = f\"Rectangle(width={self.width}, height={self.height})\"\n",
    "        return as_string\n",
    "        \n",
    "    def set_width(self, new_width):\n",
    "        self.width = new_width\n",
    "    \n",
    "    def set_height(self, new_height):\n",
    "        self.height = new_height\n",
    "        \n",
    "    def get_area(self):\n",
    "        area = self.width * self.height\n",
    "        return area\n",
    "    \n",
    "    def get_perimeter(self):\n",
    "        perimeter = (2 * self.width + 2 * self.height)\n",
    "        return perimeter\n",
    "    \n",
    "    def get_diagonal(self):\n",
    "        diagonal = (self.width ** 2 + self.height ** 2) ** .5\n",
    "        return diagonal\n",
    "    \n",
    "    def get_picture(self):\n",
    "        if self.width > 50 or self.height > 50:\n",
    "            return \"Too big for picture.\"\n",
    "        \n",
    "        picture_width = self.width * \"*\" + \"\\n\"\n",
    "        picture = self.height * picture_width\n",
    "        \n",
    "        return picture\n",
    "    \n",
    "    def get_amount_inside(self, other_shape):\n",
    "        amount_inside = self.get_area() // other_shape.get_area()\n",
    "        return amount_inside\n",
    "    \n",
    "class Square(Rectangle):\n",
    "    def __init__(self, side_length):\n",
    "        super().__init__(side_length, side_length)\n",
    "\n",
    "    def __repr__(self):\n",
    "        as_string = f\"Square(side={self.width})\"\n",
    "        return as_string\n",
    "\n",
    "    def set_side(self, new_side):\n",
    "        self.width = new_side\n",
    "        self.height = new_side"
   ]
  },
  {
   "cell_type": "code",
   "execution_count": 9,
   "metadata": {},
   "outputs": [
    {
     "name": "stdout",
     "output_type": "stream",
     "text": [
      "50\n",
      "26\n",
      "Rectangle(width=10, height=3)\n",
      "**********\n",
      "**********\n",
      "**********\n",
      "\n",
      "81\n",
      "5.656854249492381\n",
      "Square(side=4)\n",
      "****\n",
      "****\n",
      "****\n",
      "****\n",
      "\n",
      "8\n"
     ]
    }
   ],
   "source": [
    "rect = Rectangle(10, 5)\n",
    "print(rect.get_area())\n",
    "rect.set_height(3)\n",
    "print(rect.get_perimeter())\n",
    "print(rect)\n",
    "print(rect.get_picture())\n",
    "\n",
    "sq = Square(9)\n",
    "print(sq.get_area())\n",
    "sq.set_side(4)\n",
    "print(sq.get_diagonal())\n",
    "print(sq)\n",
    "print(sq.get_picture())\n",
    "\n",
    "rect.set_height(8)\n",
    "rect.set_width(16)\n",
    "print(rect.get_amount_inside(sq))"
   ]
  }
 ],
 "metadata": {
  "kernelspec": {
   "display_name": "Python 3.8.6 64-bit",
   "language": "python",
   "name": "python3"
  },
  "language_info": {
   "codemirror_mode": {
    "name": "ipython",
    "version": 3
   },
   "file_extension": ".py",
   "mimetype": "text/x-python",
   "name": "python",
   "nbconvert_exporter": "python",
   "pygments_lexer": "ipython3",
   "version": "3.8.6"
  },
  "orig_nbformat": 4,
  "vscode": {
   "interpreter": {
    "hash": "fbe58ca63fe33f9eeae9e71d10368d2b4a57f2b1b395836210cc60d362c66949"
   }
  }
 },
 "nbformat": 4,
 "nbformat_minor": 2
}
