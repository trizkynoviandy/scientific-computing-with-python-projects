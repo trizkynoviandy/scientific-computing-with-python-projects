{
 "cells": [
  {
   "cell_type": "markdown",
   "metadata": {},
   "source": [
    "# Scientific Computing with Python Projects\n",
    "\n",
    "Scientific Computing with Python Projects by FreeCodeCamp\n",
    "\n",
    "Details of the problem can be see [here](https://www.freecodecamp.org/learn/scientific-computing-with-python/scientific-computing-with-python-projects/budget-app)\n"
   ]
  },
  {
   "cell_type": "markdown",
   "metadata": {},
   "source": [
    "## 3. Budget App"
   ]
  },
  {
   "cell_type": "code",
   "execution_count": 1,
   "metadata": {},
   "outputs": [],
   "source": [
    "class Category:\n",
    "    \n",
    "    def __init__(self, item_category):\n",
    "        self.item_category = item_category\n",
    "        self.ledger = []\n",
    "        \n",
    "    def __repr__(self):\n",
    "        item_category = self.item_category.center(30, \"*\")\n",
    "        items = \"\"        \n",
    "        amount_list = []\n",
    "        \n",
    "        for item in self.ledger:\n",
    "            item_amount = f\"{item['amount']:>7.2f}\"\n",
    "            item_description = f\"{item['description']:<23}\"\n",
    "            amount_list.append(float(item[\"amount\"]))\n",
    "            items += f\"{item_description[:23]}{item_amount[:7]}\\n\"\n",
    "        \n",
    "        total = f\"Total: {sum(amount_list):.2f}\"\n",
    "        return item_category + \"\\n\" + items + total\n",
    "                \n",
    "    def deposit(self, amount ,description=\"\"):\n",
    "        self.ledger.append({\"amount\": amount, \"description\": description})\n",
    "        \n",
    "    def withdraw():\n",
    "        pass\n",
    "        \n",
    "    def transfer():\n",
    "        pass\n",
    "   \n",
    "    def check_funds():    \n",
    "        pass"
   ]
  },
  {
   "cell_type": "code",
   "execution_count": 2,
   "metadata": {},
   "outputs": [
    {
     "data": {
      "text/plain": [
       "*************Food*************\n",
       "initial deposit        1000.00\n",
       "groceries               -10.15\n",
       "restaurant and more foo -15.89\n",
       "Transfer to Clothing    -50.00\n",
       "Total: 923.96"
      ]
     },
     "execution_count": 2,
     "metadata": {},
     "output_type": "execute_result"
    }
   ],
   "source": [
    "task = Category(\"Food\")\n",
    "task.deposit(1000, \"initial deposit\")\n",
    "task.deposit(-10.15, \"groceries\")\n",
    "task.deposit(-15.89, \"restaurant and more food\")\n",
    "task.deposit(-50.00, \"Transfer to Clothing\")\n",
    "task"
   ]
  }
 ],
 "metadata": {
  "kernelspec": {
   "display_name": "Python 3.8.6 64-bit",
   "language": "python",
   "name": "python3"
  },
  "language_info": {
   "codemirror_mode": {
    "name": "ipython",
    "version": 3
   },
   "file_extension": ".py",
   "mimetype": "text/x-python",
   "name": "python",
   "nbconvert_exporter": "python",
   "pygments_lexer": "ipython3",
   "version": "3.8.6"
  },
  "orig_nbformat": 4,
  "vscode": {
   "interpreter": {
    "hash": "fbe58ca63fe33f9eeae9e71d10368d2b4a57f2b1b395836210cc60d362c66949"
   }
  }
 },
 "nbformat": 4,
 "nbformat_minor": 2
}
