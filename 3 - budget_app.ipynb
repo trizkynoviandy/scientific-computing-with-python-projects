{
 "cells": [
  {
   "cell_type": "markdown",
   "metadata": {},
   "source": [
    "# Scientific Computing with Python Projects\n",
    "\n",
    "Scientific Computing with Python Projects by FreeCodeCamp\n",
    "\n",
    "Details of the problem can be see [here](https://www.freecodecamp.org/learn/scientific-computing-with-python/scientific-computing-with-python-projects/budget-app)\n"
   ]
  },
  {
   "cell_type": "markdown",
   "metadata": {},
   "source": [
    "## 3. Budget App"
   ]
  },
  {
   "cell_type": "code",
   "execution_count": 47,
   "metadata": {},
   "outputs": [],
   "source": [
    "class Category:\n",
    "    \n",
    "    def __init__(self, category):\n",
    "        self.category = category\n",
    "        self.ledger = []\n",
    "        self.current_balance = []\n",
    "        \n",
    "    def __repr__(self):\n",
    "        category = self.category.center(30, \"*\")\n",
    "        items = \"\"        \n",
    "        amount_list = []\n",
    "        \n",
    "        for item in self.ledger:\n",
    "            item_amount = f\"{item['amount']:>7.2f}\"\n",
    "            item_description = f\"{item['description']:<23}\"\n",
    "            amount_list.append(float(item[\"amount\"]))\n",
    "            items += f\"{item_description[:23]}{item_amount[:7]}\\n\"\n",
    "        \n",
    "        total = f\"Total: {sum(self.current_balance):.2f}\"\n",
    "        return category + \"\\n\" + items + total\n",
    "                \n",
    "    def deposit(self, amount ,description=\"\"):\n",
    "        self.ledger.append({\"amount\": amount, \"description\": description})\n",
    "        self.current_balance.append(amount)\n",
    "        \n",
    "    def withdraw(self, amount, description=\"\"):\n",
    "        if self.check_funds(amount):\n",
    "            amount = -1 * amount\n",
    "            self.ledger.append({\"amount\": amount, \"description\": description})\n",
    "            self.current_balance.append(amount)\n",
    "            return True\n",
    "        else:\n",
    "            return False\n",
    "        \n",
    "    def get_balance(self):\n",
    "        return sum(self.current_balance)\n",
    "        \n",
    "    def transfer(self, amount, destination):\n",
    "        if self.check_funds(amount):\n",
    "            self.withdraw(amount, \"Transfer to \" + destination.category)\n",
    "            destination.deposit(amount, \"Transfer from \" + self.category)\n",
    "            return True\n",
    "        return False\n",
    "   \n",
    "    def check_funds(self, amount):    \n",
    "        if amount > self.get_balance():\n",
    "            return False\n",
    "        else:\n",
    "            return True\n",
    "        \n",
    "def create_spend_chart(categories):\n",
    "    spent = []\n",
    "    \n",
    "    for category in categories:\n",
    "        temp_spent = 0\n",
    "        for item in category.ledger:\n",
    "            if item[\"amount\"] <0:\n",
    "                temp_spent += abs(item[\"amount\"])\n",
    "        spent.append(temp_spent)\n",
    "  \n",
    "    \n",
    "    total_spent = sum(spent)\n",
    "    percentage = [round(i/total_spent * 100, 2) for i in spent]\n",
    "    \n",
    "    spend_chart = \"Percentage spent by category\"\n",
    "    for i in range(100, -1, -10):\n",
    "        spend_chart += \"\\n\" + str(i).rjust(3) + \"|\"\n",
    "        for j in percentage:\n",
    "            if j > i:\n",
    "                spend_chart += \" o \"\n",
    "            else:\n",
    "                spend_chart += \"   \"\n",
    "        spend_chart += \" \"\n",
    "    spend_chart += \"\\n    ----------\"\n",
    "    \n",
    "    len_category = []\n",
    "    for category in categories:\n",
    "        len_category.append(len(category.category))\n",
    "    max_length = max(len_category)\n",
    "\n",
    "    for i in range(max_length):\n",
    "        spend_chart += \"\\n    \"\n",
    "        for j in range(len(categories)):\n",
    "            if i < len_category[j]:\n",
    "                spend_chart += \" \" + categories[j].category[i] + \" \"\n",
    "            else:\n",
    "                spend_chart += \"   \"\n",
    "        spend_chart += \" \"\n",
    "\n",
    "    return spend_chart"
   ]
  }
 ],
 "metadata": {
  "kernelspec": {
   "display_name": "Python 3.8.6 64-bit",
   "language": "python",
   "name": "python3"
  },
  "language_info": {
   "codemirror_mode": {
    "name": "ipython",
    "version": 3
   },
   "file_extension": ".py",
   "mimetype": "text/x-python",
   "name": "python",
   "nbconvert_exporter": "python",
   "pygments_lexer": "ipython3",
   "version": "3.8.6"
  },
  "orig_nbformat": 4,
  "vscode": {
   "interpreter": {
    "hash": "fbe58ca63fe33f9eeae9e71d10368d2b4a57f2b1b395836210cc60d362c66949"
   }
  }
 },
 "nbformat": 4,
 "nbformat_minor": 2
}
