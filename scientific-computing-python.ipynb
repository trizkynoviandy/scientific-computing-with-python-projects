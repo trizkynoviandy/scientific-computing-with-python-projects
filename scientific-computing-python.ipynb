{
 "cells": [
  {
   "cell_type": "markdown",
   "metadata": {},
   "source": [
    "# Scientific Computing with Python Projects\n",
    "\n",
    "Scientific Computing with Python Projects by FreeCodeCamp"
   ]
  },
  {
   "cell_type": "markdown",
   "metadata": {},
   "source": [
    "### 1. Arithmetic Arranger"
   ]
  },
  {
   "cell_type": "code",
   "execution_count": 1,
   "metadata": {},
   "outputs": [],
   "source": [
    "problems_1= [\"32 + 698\", \"3801 - 2\", \"45 + 43\", \"123 + 49\"]\n",
    "problems_2 = [\"32 + 8\", \"1 - 3801\", \"9999 + 9999\", \"523 - 49\"]\n",
    "problems_3 = [\"9999 + 9999\", \"523 - 49\", \"9999 + 9999\", \"523 - 49\", \"9999 + 9999\", \"523 - 49\"]\n",
    "problems_4 = [\"x + 698\", \"3801 - 2\", \"45 + 43\", \"123 + 49\"]\n",
    "problems_5 = [\"31112 + 8\", \"1 - 3801\", \"9999 + 9999\", \"523 - 49\"]\n",
    "problems_6 = [\"3112 * 8\", \"1 - 3801\", \"9999 + 9999\", \"523 - 49\"]\n",
    "problems_7 = ['3801 - 2', '123 + 49']"
   ]
  },
  {
   "cell_type": "code",
   "execution_count": 2,
   "metadata": {},
   "outputs": [],
   "source": [
    "def arithmetic_arranger(problems, answers=False):\n",
    "    \n",
    "    try:\n",
    "        if len(problems) >5:\n",
    "            raise Exception\n",
    "    except:\n",
    "        return(\"Error: Too many problems.\")\n",
    "    \n",
    "    store_first_number = []\n",
    "    store_operator = []\n",
    "    store_second_number = []\n",
    "    store_result = []\n",
    "    \n",
    "    for count, item in enumerate(problems):\n",
    "        first_number, operator, second_number = item.split()\n",
    "        \n",
    "        try:\n",
    "            int(first_number)\n",
    "            int(second_number)\n",
    "        except:\n",
    "            return \"Error: Numbers must only contain digits.\"\n",
    "        \n",
    "        try:\n",
    "            if len(first_number) > 4 or len(second_number) > 4:\n",
    "                raise Exception\n",
    "        except:\n",
    "            return \"Error: Numbers cannot be more than four digits.\"\n",
    "        \n",
    "        try:\n",
    "            if operator != \"+\" and operator != \"-\":\n",
    "                raise Exception\n",
    "        except:\n",
    "            return \"Error: Operator must be '+' or '-'.\"\n",
    "        \n",
    "        store_first_number.append(first_number)\n",
    "        store_operator.append(operator)\n",
    "        store_second_number.append(second_number)\n",
    "        \n",
    "        if store_operator[count] == \"+\":\n",
    "            operation = int(store_first_number[count]) + int(store_second_number[count])\n",
    "        else:\n",
    "            operation = int(store_first_number[count]) - int(store_second_number[count])\n",
    "\n",
    "        store_result.append(operation)\n",
    "        \n",
    "        space = \" \"\n",
    "        \n",
    "        len_first_number = len(store_first_number[count])\n",
    "        len_second_number = len(store_second_number[count])\n",
    "        \n",
    "        if len_first_number <= len_second_number:\n",
    "            spacing = abs(len_first_number - len_second_number)\n",
    "            store_first_number[count] =  space + space + space * spacing + store_first_number[count]\n",
    "            store_second_number[count] = store_second_number[count]\n",
    "        else:\n",
    "            spacing = abs(len_first_number - len_second_number)\n",
    "            store_first_number[count] = space * 2 + store_first_number[count]\n",
    "            store_second_number[count] = space * spacing + store_second_number[count]\n",
    "              \n",
    "    first_row = []\n",
    "    second_row = []\n",
    "    third_row = []\n",
    "    fourth_row = []    \n",
    "    \n",
    "    second_row_length = []\n",
    "    for n, item in enumerate(store_first_number):\n",
    "        if n < len(store_first_number) - 1:\n",
    "            first_row.append(item + \"    \")\n",
    "        else:\n",
    "            first_row.append(item)\n",
    "    first_row = (''.join([str(elem) for elem in first_row]))\n",
    "    \n",
    "    for n, item in enumerate(store_second_number):\n",
    "        second_row_item = store_operator[n] + \" \" + item + \"    \"\n",
    "        temp_second_row_length = len(second_row_item) - 4\n",
    "        second_row_length.append(temp_second_row_length)\n",
    "        straipe = \"-\" * (len(second_row_item) - 4)\n",
    "        \n",
    "        if n < len(store_second_number) - 1:\n",
    "            second_row.append(second_row_item)\n",
    "            third_row.append(straipe + \"    \")\n",
    "        else:\n",
    "            size = len(second_row_item)\n",
    "            second_row_item = second_row_item[:size - 4]\n",
    "            second_row.append(second_row_item)\n",
    "            third_row.append(straipe)\n",
    "    second_row = (''.join([str(elem) for elem in second_row]))\n",
    "    third_row = (''.join([str(elem) for elem in third_row]))\n",
    "    \n",
    "    for n, item in enumerate(store_result):\n",
    "        len_result = len(str(item))\n",
    "        result_spacing = abs(len_result - second_row_length[n])\n",
    "        if n < len(store_result) - 1:\n",
    "            fourth_row.append(space * result_spacing + str(item) + \"    \")\n",
    "        else:\n",
    "            fourth_row.append(space * result_spacing + str(item))\n",
    "    fourth_row = (''.join([str(elem) for elem in fourth_row]))\n",
    "    \n",
    "    if answers == False:\n",
    "        arranged_problems = first_row + '\\n' + second_row + \"\\n\" + third_row\n",
    "    else:\n",
    "        arranged_problems = first_row + '\\n' + second_row + \"\\n\" + third_row + \"\\n\" + fourth_row\n",
    "\n",
    "\n",
    "    return arranged_problems"
   ]
  },
  {
   "cell_type": "markdown",
   "metadata": {},
   "source": [
    "## 2. Time Calculator"
   ]
  },
  {
   "cell_type": "code",
   "execution_count": 43,
   "metadata": {},
   "outputs": [
    {
     "data": {
      "text/plain": [
       "'1.00 AM (next day)'"
      ]
     },
     "execution_count": 43,
     "metadata": {},
     "output_type": "execute_result"
    }
   ],
   "source": [
    "def add_time(first, second):\n",
    "    time = 0\n",
    "    period = \"\"\n",
    "    \n",
    "    time, period = first.split()\n",
    "    \n",
    "    added = float(time) + float(second)\n",
    "    \n",
    "    next_day_counter = 0\n",
    "    \n",
    "    if added > 12.00:\n",
    "        added = added - 12.00\n",
    "        if period == 'AM':\n",
    "            period = 'PM'\n",
    "        else:\n",
    "            period = 'AM'\n",
    "            next_day_counter += 1\n",
    "    \n",
    "    added = str(format(added, '.2f'))\n",
    "    space = \" \"\n",
    "    \n",
    "    if next_day_counter == 0:\n",
    "        return added + space + period\n",
    "    else:\n",
    "        if next_day_counter == 1:\n",
    "            next_day = \"(next day)\"\n",
    "            return added + space + period + space + next_day\n",
    "        else:\n",
    "            next_day = f\"{next_day_counter} day laters\"\n",
    "            return added + space + period + space + next_day\n",
    "\n",
    "add_time(\"3.00 PM\", \"10.00\")"
   ]
  },
  {
   "cell_type": "code",
   "execution_count": null,
   "metadata": {},
   "outputs": [],
   "source": []
  }
 ],
 "metadata": {
  "interpreter": {
   "hash": "fbe58ca63fe33f9eeae9e71d10368d2b4a57f2b1b395836210cc60d362c66949"
  },
  "kernelspec": {
   "display_name": "Python 3.8.6 64-bit",
   "language": "python",
   "name": "python3"
  },
  "language_info": {
   "codemirror_mode": {
    "name": "ipython",
    "version": 3
   },
   "file_extension": ".py",
   "mimetype": "text/x-python",
   "name": "python",
   "nbconvert_exporter": "python",
   "pygments_lexer": "ipython3",
   "version": "3.8.6"
  },
  "orig_nbformat": 4
 },
 "nbformat": 4,
 "nbformat_minor": 2
}
